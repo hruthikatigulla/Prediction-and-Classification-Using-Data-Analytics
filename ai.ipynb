{
 "cells": [
  {
   "cell_type": "code",
   "execution_count": 1,
   "id": "4ab68d68-e0ff-4f36-b13d-7bd4841828ac",
   "metadata": {},
   "outputs": [],
   "source": [
    "import pandas as pd\n",
    "\n",
    "# Load data from CSV\n",
    "df = pd.read_csv('waste.csv')\n"
   ]
  },
  {
   "cell_type": "code",
   "execution_count": 2,
   "id": "25b1c9c8-b596-44e7-89d5-4137c298100f",
   "metadata": {
    "scrolled": true
   },
   "outputs": [
    {
     "name": "stdout",
     "output_type": "stream",
     "text": [
      "                  created_at  entry_id  gas_value  gas _2value\n",
      "0  2024-03-11T13:10:46+00:00         1         78            1\n",
      "1  2024-03-11T13:11:03+00:00         2         58            0\n",
      "2  2024-03-11T13:11:19+00:00         3         70            1\n",
      "3  2024-03-11T13:11:36+00:00         4         67            1\n",
      "4  2024-03-11T13:11:52+00:00         5         62            1\n",
      "                   created_at  entry_id  gas_value  gas _2value\n",
      "65  2024-03-11T13:51:46+00:00        66         43            1\n",
      "66  2024-03-11T13:51:46+00:00        67         53            0\n",
      "67  2024-03-11T13:52:46+00:00        68         35            1\n",
      "68  2024-03-11T13:52:46+00:00        69         34            1\n",
      "69  2024-03-11T13:52:46+00:00        70         33            0\n",
      "        entry_id   gas_value  gas _2value\n",
      "count  70.000000   70.000000    70.000000\n",
      "mean   35.500000   65.185714     0.828571\n",
      "std    20.351085   35.816882     0.379604\n",
      "min     1.000000   33.000000     0.000000\n",
      "25%    18.250000   52.000000     1.000000\n",
      "50%    35.500000   54.000000     1.000000\n",
      "75%    52.750000   62.000000     1.000000\n",
      "max    70.000000  232.000000     1.000000\n",
      "<class 'pandas.core.frame.DataFrame'>\n",
      "RangeIndex: 70 entries, 0 to 69\n",
      "Data columns (total 4 columns):\n",
      " #   Column       Non-Null Count  Dtype \n",
      "---  ------       --------------  ----- \n",
      " 0   created_at   70 non-null     object\n",
      " 1   entry_id     70 non-null     int64 \n",
      " 2   gas_value    70 non-null     int64 \n",
      " 3   gas _2value  70 non-null     int64 \n",
      "dtypes: int64(3), object(1)\n",
      "memory usage: 2.3+ KB\n",
      "None\n",
      "Number of missing values in each column:\n",
      "created_at     0\n",
      "entry_id       0\n",
      "gas_value      0\n",
      "gas _2value    0\n",
      "dtype: int64\n",
      "Number of duplicated rows: 0\n",
      "Shape of the DataFrame: (70, 4)\n"
     ]
    }
   ],
   "source": [
    "# Display first few rows of the DataFrame\n",
    "print(df.head())\n",
    "\n",
    "# Display last few rows of the DataFrame\n",
    "print(df.tail())\n",
    "\n",
    "# Display summary statistics of the DataFrame\n",
    "print(df.describe())\n",
    "\n",
    "# Display information about the DataFrame, including data types and non-null values\n",
    "print(df.info())\n",
    "\n",
    "# Count missing values in each column\n",
    "print(\"Number of missing values in each column:\")\n",
    "print(df.isnull().sum())\n",
    "\n",
    "# Count duplicated rows\n",
    "print(\"Number of duplicated rows:\", df.duplicated().sum())\n",
    "\n",
    "# Display the shape of the DataFrame (number of rows and columns)\n",
    "print(\"Shape of the DataFrame:\", df.shape)\n"
   ]
  },
  {
   "cell_type": "code",
   "execution_count": 3,
   "id": "25696c4d-41f3-4cc9-84b8-c197689e2c9c",
   "metadata": {},
   "outputs": [
    {
     "data": {
      "image/png": "[encoded data removed]",
      "text/plain": [
       "<Figure size 640x480 with 2 Axes>"
      ]
     },
     "metadata": {},
     "output_type": "display_data"
    }
   ],
   "source": [
    "import seaborn as sns\n",
    "import matplotlib.pyplot as plt\n",
    "\n",
    "# Select only numeric columns\n",
    "numeric_df = df.select_dtypes(include=['float64', 'int64'])\n",
    "\n",
    "# Calculate correlation matrix\n",
    "corr = numeric_df.corr()\n",
    "\n",
    "# Plot heatmap\n",
    "sns.heatmap(corr, \n",
    "            xticklabels=corr.columns,\n",
    "            yticklabels=corr.columns,\n",
    "            annot=True,\n",
    "            cmap='coolwarm',\n",
    "            linewidths=.5)\n",
    "plt.title('Correlation Heatmap')\n",
    "plt.show()\n"
   ]
  },
  {
   "cell_type": "code",
   "execution_count": 4,
   "id": "84b57837-3b33-40df-83d0-4bedb13da577",
   "metadata": {},
   "outputs": [
    {
     "data": {
      "text/html": [
       "<div>\n",
       "<style scoped>\n",
       "    .dataframe tbody tr th:only-of-type {\n",
       "        vertical-align: middle;\n",
       "    }\n",
       "\n",
       "    .dataframe tbody tr th {\n",
       "        vertical-align: top;\n",
       "    }\n",
       "\n",
       "    .dataframe thead th {\n",
       "        text-align: right;\n",
       "    }\n",
       "</style>\n",
       "<table border=\"1\" class=\"dataframe\">\n",
       "  <thead>\n",
       "    <tr style=\"text-align: right;\">\n",
       "      <th></th>\n",
       "      <th>created_at</th>\n",
       "      <th>entry_id</th>\n",
       "      <th>gas_value</th>\n",
       "      <th>gas _2value</th>\n",
       "    </tr>\n",
       "  </thead>\n",
       "  <tbody>\n",
       "    <tr>\n",
       "      <th>0</th>\n",
       "      <td>2024-03-11T13:10:46+00:00</td>\n",
       "      <td>1</td>\n",
       "      <td>78</td>\n",
       "      <td>1</td>\n",
       "    </tr>\n",
       "    <tr>\n",
       "      <th>1</th>\n",
       "      <td>2024-03-11T13:11:03+00:00</td>\n",
       "      <td>2</td>\n",
       "      <td>58</td>\n",
       "      <td>0</td>\n",
       "    </tr>\n",
       "    <tr>\n",
       "      <th>2</th>\n",
       "      <td>2024-03-11T13:11:19+00:00</td>\n",
       "      <td>3</td>\n",
       "      <td>70</td>\n",
       "      <td>1</td>\n",
       "    </tr>\n",
       "    <tr>\n",
       "      <th>3</th>\n",
       "      <td>2024-03-11T13:11:36+00:00</td>\n",
       "      <td>4</td>\n",
       "      <td>67</td>\n",
       "      <td>1</td>\n",
       "    </tr>\n",
       "    <tr>\n",
       "      <th>4</th>\n",
       "      <td>2024-03-11T13:11:52+00:00</td>\n",
       "      <td>5</td>\n",
       "      <td>62</td>\n",
       "      <td>1</td>\n",
       "    </tr>\n",
       "    <tr>\n",
       "      <th>...</th>\n",
       "      <td>...</td>\n",
       "      <td>...</td>\n",
       "      <td>...</td>\n",
       "      <td>...</td>\n",
       "    </tr>\n",
       "    <tr>\n",
       "      <th>65</th>\n",
       "      <td>2024-03-11T13:51:46+00:00</td>\n",
       "      <td>66</td>\n",
       "      <td>43</td>\n",
       "      <td>1</td>\n",
       "    </tr>\n",
       "    <tr>\n",
       "      <th>66</th>\n",
       "      <td>2024-03-11T13:51:46+00:00</td>\n",
       "      <td>67</td>\n",
       "      <td>53</td>\n",
       "      <td>0</td>\n",
       "    </tr>\n",
       "    <tr>\n",
       "      <th>67</th>\n",
       "      <td>2024-03-11T13:52:46+00:00</td>\n",
       "      <td>68</td>\n",
       "      <td>35</td>\n",
       "      <td>1</td>\n",
       "    </tr>\n",
       "    <tr>\n",
       "      <th>68</th>\n",
       "      <td>2024-03-11T13:52:46+00:00</td>\n",
       "      <td>69</td>\n",
       "      <td>34</td>\n",
       "      <td>1</td>\n",
       "    </tr>\n",
       "    <tr>\n",
       "      <th>69</th>\n",
       "      <td>2024-03-11T13:52:46+00:00</td>\n",
       "      <td>70</td>\n",
       "      <td>33</td>\n",
       "      <td>0</td>\n",
       "    </tr>\n",
       "  </tbody>\n",
       "</table>\n",
       "<p>70 rows × 4 columns</p>\n",
       "</div>"
      ],
      "text/plain": [
       "                   created_at  entry_id  gas_value  gas _2value\n",
       "0   2024-03-11T13:10:46+00:00         1         78            1\n",
       "1   2024-03-11T13:11:03+00:00         2         58            0\n",
       "2   2024-03-11T13:11:19+00:00         3         70            1\n",
       "3   2024-03-11T13:11:36+00:00         4         67            1\n",
       "4   2024-03-11T13:11:52+00:00         5         62            1\n",
       "..                        ...       ...        ...          ...\n",
       "65  2024-03-11T13:51:46+00:00        66         43            1\n",
       "66  2024-03-11T13:51:46+00:00        67         53            0\n",
       "67  2024-03-11T13:52:46+00:00        68         35            1\n",
       "68  2024-03-11T13:52:46+00:00        69         34            1\n",
       "69  2024-03-11T13:52:46+00:00        70         33            0\n",
       "\n",
       "[70 rows x 4 columns]"
      ]
     },
     "execution_count": 4,
     "metadata": {},
     "output_type": "execute_result"
    }
   ],
   "source": [
    "df"
   ]
  },
  {
   "cell_type": "code",
   "execution_count": 5,
   "id": "36b081c9-e7ef-4b81-b380-2148ad8218b5",
   "metadata": {},
   "outputs": [],
   "source": [
    "column=['created_at','entry_id']\t"
   ]
  },
  {
   "cell_type": "code",
   "execution_count": 6,
   "id": "05c27585-c699-4191-8237-93e141db77b9",
   "metadata": {},
   "outputs": [],
   "source": [
    "df.drop(column,inplace=True,axis=1)"
   ]
  },
  {
   "cell_type": "code",
   "execution_count": 7,
   "id": "97040fa2-39e9-4471-a92f-7074038e6d78",
   "metadata": {},
   "outputs": [
    {
     "data": {
      "text/html": [
       "<div>\n",
       "<style scoped>\n",
       "    .dataframe tbody tr th:only-of-type {\n",
       "        vertical-align: middle;\n",
       "    }\n",
       "\n",
       "    .dataframe tbody tr th {\n",
       "        vertical-align: top;\n",
       "    }\n",
       "\n",
       "    .dataframe thead th {\n",
       "        text-align: right;\n",
       "    }\n",
       "</style>\n",
       "<table border=\"1\" class=\"dataframe\">\n",
       "  <thead>\n",
       "    <tr style=\"text-align: right;\">\n",
       "      <th></th>\n",
       "      <th>gas_value</th>\n",
       "      <th>gas _2value</th>\n",
       "    </tr>\n",
       "  </thead>\n",
       "  <tbody>\n",
       "    <tr>\n",
       "      <th>0</th>\n",
       "      <td>78</td>\n",
       "      <td>1</td>\n",
       "    </tr>\n",
       "    <tr>\n",
       "      <th>1</th>\n",
       "      <td>58</td>\n",
       "      <td>0</td>\n",
       "    </tr>\n",
       "    <tr>\n",
       "      <th>2</th>\n",
       "      <td>70</td>\n",
       "      <td>1</td>\n",
       "    </tr>\n",
       "    <tr>\n",
       "      <th>3</th>\n",
       "      <td>67</td>\n",
       "      <td>1</td>\n",
       "    </tr>\n",
       "    <tr>\n",
       "      <th>4</th>\n",
       "      <td>62</td>\n",
       "      <td>1</td>\n",
       "    </tr>\n",
       "  </tbody>\n",
       "</table>\n",
       "</div>"
      ],
      "text/plain": [
       "   gas_value  gas _2value\n",
       "0         78            1\n",
       "1         58            0\n",
       "2         70            1\n",
       "3         67            1\n",
       "4         62            1"
      ]
     },
     "execution_count": 7,
     "metadata": {},
     "output_type": "execute_result"
    }
   ],
   "source": [
    "df.head()"
   ]
  },
  {
   "cell_type": "code",
   "execution_count": 8,
   "id": "d43fbbd7-8348-4a3b-9101-040c236a2e58",
   "metadata": {},
   "outputs": [],
   "source": [
    "# Define function to classify waste possibility based on gas value\n",
    "def classify_waste(gas_value, threshold=80):\n",
    "    if gas_value >= threshold:\n",
    "        return 'High Waste Possibility'\n",
    "    else:\n",
    "        return 'Low Waste Possibility'\n"
   ]
  },
  {
   "cell_type": "code",
   "execution_count": 9,
   "id": "3222ef8b-7b46-4753-961d-013710139cb0",
   "metadata": {},
   "outputs": [
    {
     "data": {
      "text/html": [
       "<div>\n",
       "<style scoped>\n",
       "    .dataframe tbody tr th:only-of-type {\n",
       "        vertical-align: middle;\n",
       "    }\n",
       "\n",
       "    .dataframe tbody tr th {\n",
       "        vertical-align: top;\n",
       "    }\n",
       "\n",
       "    .dataframe thead th {\n",
       "        text-align: right;\n",
       "    }\n",
       "</style>\n",
       "<table border=\"1\" class=\"dataframe\">\n",
       "  <thead>\n",
       "    <tr style=\"text-align: right;\">\n",
       "      <th></th>\n",
       "      <th>gas_value</th>\n",
       "      <th>gas _2value</th>\n",
       "      <th>waste_possibility</th>\n",
       "    </tr>\n",
       "  </thead>\n",
       "  <tbody>\n",
       "    <tr>\n",
       "      <th>0</th>\n",
       "      <td>78</td>\n",
       "      <td>1</td>\n",
       "      <td>Low Waste Possibility</td>\n",
       "    </tr>\n",
       "    <tr>\n",
       "      <th>1</th>\n",
       "      <td>58</td>\n",
       "      <td>0</td>\n",
       "      <td>Low Waste Possibility</td>\n",
       "    </tr>\n",
       "    <tr>\n",
       "      <th>2</th>\n",
       "      <td>70</td>\n",
       "      <td>1</td>\n",
       "      <td>Low Waste Possibility</td>\n",
       "    </tr>\n",
       "    <tr>\n",
       "      <th>3</th>\n",
       "      <td>67</td>\n",
       "      <td>1</td>\n",
       "      <td>Low Waste Possibility</td>\n",
       "    </tr>\n",
       "    <tr>\n",
       "      <th>4</th>\n",
       "      <td>62</td>\n",
       "      <td>1</td>\n",
       "      <td>Low Waste Possibility</td>\n",
       "    </tr>\n",
       "    <tr>\n",
       "      <th>...</th>\n",
       "      <td>...</td>\n",
       "      <td>...</td>\n",
       "      <td>...</td>\n",
       "    </tr>\n",
       "    <tr>\n",
       "      <th>65</th>\n",
       "      <td>43</td>\n",
       "      <td>1</td>\n",
       "      <td>Low Waste Possibility</td>\n",
       "    </tr>\n",
       "    <tr>\n",
       "      <th>66</th>\n",
       "      <td>53</td>\n",
       "      <td>0</td>\n",
       "      <td>Low Waste Possibility</td>\n",
       "    </tr>\n",
       "    <tr>\n",
       "      <th>67</th>\n",
       "      <td>35</td>\n",
       "      <td>1</td>\n",
       "      <td>Low Waste Possibility</td>\n",
       "    </tr>\n",
       "    <tr>\n",
       "      <th>68</th>\n",
       "      <td>34</td>\n",
       "      <td>1</td>\n",
       "      <td>Low Waste Possibility</td>\n",
       "    </tr>\n",
       "    <tr>\n",
       "      <th>69</th>\n",
       "      <td>33</td>\n",
       "      <td>0</td>\n",
       "      <td>Low Waste Possibility</td>\n",
       "    </tr>\n",
       "  </tbody>\n",
       "</table>\n",
       "<p>70 rows × 3 columns</p>\n",
       "</div>"
      ],
      "text/plain": [
       "    gas_value  gas _2value      waste_possibility\n",
       "0          78            1  Low Waste Possibility\n",
       "1          58            0  Low Waste Possibility\n",
       "2          70            1  Low Waste Possibility\n",
       "3          67            1  Low Waste Possibility\n",
       "4          62            1  Low Waste Possibility\n",
       "..        ...          ...                    ...\n",
       "65         43            1  Low Waste Possibility\n",
       "66         53            0  Low Waste Possibility\n",
       "67         35            1  Low Waste Possibility\n",
       "68         34            1  Low Waste Possibility\n",
       "69         33            0  Low Waste Possibility\n",
       "\n",
       "[70 rows x 3 columns]"
      ]
     },
     "execution_count": 9,
     "metadata": {},
     "output_type": "execute_result"
    }
   ],
   "source": [
    "# Create a new column 'waste_possibility' based on 'gas value' values\n",
    "df['waste_possibility'] = df['gas_value'].apply(classify_waste)\n",
    "\n",
    "# Display DataFrame with the newly created 'waste_possibility' column\n",
    "df\n",
    "\n"
   ]
  },
  {
   "cell_type": "code",
   "execution_count": 10,
   "id": "0129c2bf-4803-472d-ba2b-89b94fd8deed",
   "metadata": {},
   "outputs": [],
   "source": [
    "df=pd.DataFrame(df)"
   ]
  },
  {
   "cell_type": "code",
   "execution_count": 11,
   "id": "f8343df4-feb5-487c-a9cd-85c776a2fe1f",
   "metadata": {},
   "outputs": [],
   "source": [
    "X = df.drop(\"waste_possibility\",axis=1) \n",
    "y = df['waste_possibility']  \n"
   ]
  },
  {
   "cell_type": "code",
   "execution_count": 12,
   "id": "d8f222b0-3a68-4bf6-8278-8ddc1a758b27",
   "metadata": {},
   "outputs": [],
   "source": [
    "from sklearn.model_selection import train_test_split\n",
    "X_train, X_test, y_train, y_test = train_test_split(X, y, test_size=0.2, random_state=10000)"
   ]
  },
  {
   "cell_type": "code",
   "execution_count": 13,
   "id": "37c28d0b-0270-4273-bbc3-07cf1eebc91d",
   "metadata": {},
   "outputs": [
    {
     "name": "stdout",
     "output_type": "stream",
     "text": [
      "Accuracy: 0.9285714285714286\n"
     ]
    }
   ],
   "source": [
    "from sklearn.ensemble import RandomForestClassifier\n",
    "\n",
    "from sklearn.metrics import accuracy_score\n",
    "\n",
    "random_forest_classifier = RandomForestClassifier(random_state=100)\n",
    "\n",
    "\n",
    "random_forest_classifier.fit(X_train, y_train)\n",
    "y_pred = random_forest_classifier.predict(X_test)\n",
    "\n",
    "accuracy = accuracy_score(y_test, y_pred)\n",
    "\n",
    "\n",
    "print(\"Accuracy:\", accuracy)"
   ]
  },
  {
   "cell_type": "code",
   "execution_count": 14,
   "id": "5367636e-a16d-4bff-9b4e-3517051601c2",
   "metadata": {},
   "outputs": [
    {
     "name": "stdout",
     "output_type": "stream",
     "text": [
      "Accuracy: 0.9285714285714286\n"
     ]
    }
   ],
   "source": [
    "from sklearn.ensemble import AdaBoostClassifier\n",
    "adaboost_classifier = AdaBoostClassifier(n_estimators=50, random_state=100)\n",
    "\n",
    "\n",
    "adaboost_classifier.fit(X_train, y_train)\n",
    "\n",
    "\n",
    "y_pred = adaboost_classifier.predict(X_test)\n",
    "accuracy = accuracy_score(y_test, y_pred)\n",
    "print(\"Accuracy:\", accuracy)"
   ]
  },
  {
   "cell_type": "code",
   "execution_count": 15,
   "id": "15562a0b-a436-48cd-ac05-86f4e065b61d",
   "metadata": {},
   "outputs": [
    {
     "data": {
      "image/png": "[encoded data removed]",
      "text/plain": [
       "<Figure size 640x480 with 1 Axes>"
      ]
     },
     "metadata": {},
     "output_type": "display_data"
    }
   ],
   "source": [
    "# Plotting waste possibility distribution\n",
    "sns.countplot(x='waste_possibility', data=df)\n",
    "plt.title('Waste Possibility Distribution')\n",
    "plt.xlabel('Waste Possibility')\n",
    "plt.ylabel('Count')\n",
    "plt.show()\n"
   ]
  },
  {
   "cell_type": "code",
   "execution_count": 16,
   "id": "bf05ca6e-137a-4797-a902-83557ddc5200",
   "metadata": {},
   "outputs": [],
   "source": [
    "from sklearn.preprocessing import LabelEncoder"
   ]
  },
  {
   "cell_type": "code",
   "execution_count": 17,
   "id": "aa40ab19-dbdf-4680-b409-b65a91c7d548",
   "metadata": {},
   "outputs": [],
   "source": [
    "label=LabelEncoder()"
   ]
  },
  {
   "cell_type": "code",
   "execution_count": 18,
   "id": "44de8faa-a779-4bb2-87ff-7957e1bc64de",
   "metadata": {},
   "outputs": [],
   "source": [
    "df[\"waste_possibility\"]=label.fit_transform(df[\"waste_possibility\"])"
   ]
  },
  {
   "cell_type": "code",
   "execution_count": null,
   "id": "96b13ba9-f83d-4dcb-bf0f-a8e259b02a95",
   "metadata": {},
   "outputs": [],
   "source": []
  },
  {
   "cell_type": "code",
   "execution_count": 19,
   "id": "eff67cb6-985d-4b9c-a41c-3ca08cc5c44c",
   "metadata": {},
   "outputs": [
    {
     "name": "stdout",
     "output_type": "stream",
     "text": [
      "Accuracy: 0.8571428571428571\n",
      "              precision    recall  f1-score   support\n",
      "\n",
      "           0       0.00      0.00      0.00         4\n",
      "           1       0.86      1.00      0.92        24\n",
      "\n",
      "    accuracy                           0.86        28\n",
      "   macro avg       0.43      0.50      0.46        28\n",
      "weighted avg       0.73      0.86      0.79        28\n",
      "\n"
     ]
    },
    {
     "name": "stderr",
     "output_type": "stream",
     "text": [
      "C:\\Users\\TGA\\anaconda3\\Lib\\site-packages\\sklearn\\metrics\\_classification.py:1344: UndefinedMetricWarning: Precision and F-score are ill-defined and being set to 0.0 in labels with no predicted samples. Use `zero_division` parameter to control this behavior.\n",
      "  _warn_prf(average, modifier, msg_start, len(result))\n",
      "C:\\Users\\TGA\\anaconda3\\Lib\\site-packages\\sklearn\\metrics\\_classification.py:1344: UndefinedMetricWarning: Precision and F-score are ill-defined and being set to 0.0 in labels with no predicted samples. Use `zero_division` parameter to control this behavior.\n",
      "  _warn_prf(average, modifier, msg_start, len(result))\n",
      "C:\\Users\\TGA\\anaconda3\\Lib\\site-packages\\sklearn\\metrics\\_classification.py:1344: UndefinedMetricWarning: Precision and F-score are ill-defined and being set to 0.0 in labels with no predicted samples. Use `zero_division` parameter to control this behavior.\n",
      "  _warn_prf(average, modifier, msg_start, len(result))\n"
     ]
    }
   ],
   "source": [
    "import pandas as pd\n",
    "from statsmodels.tsa.arima.model import ARIMA\n",
    "from sklearn.metrics import accuracy_score, classification_report\n",
    "from sklearn.model_selection import train_test_split\n",
    "\n",
    "\n",
    "X = df.drop([\"waste_possibility\"], axis=1)\n",
    "y = df['waste_possibility']\n",
    "\n",
    "# Split the data into training and testing sets\n",
    "X_train, X_test, y_train, y_test = train_test_split(X, y, test_size=0.4, random_state=42)\n",
    "\n",
    "# Fit ARIMA model\n",
    "model = ARIMA(y_train.values, order=(5, 1, 0))  # Example order, you may need to tune this\n",
    "model_fit = model.fit()\n",
    "\n",
    "# Forecast future values\n",
    "forecast_steps = len(X_test)\n",
    "forecast = model_fit.forecast(steps=forecast_steps)\n",
    "\n",
    "# Round forecasted values to the nearest integer (class)\n",
    "predicted_classes = [round(val) for val in forecast]\n",
    "\n",
    "# Evaluate Model\n",
    "accuracy = accuracy_score(y_test, predicted_classes)\n",
    "print(\"Accuracy:\", accuracy)\n",
    "print(classification_report(y_test, predicted_classes))\n"
   ]
  },
  {
   "cell_type": "code",
   "execution_count": null,
   "id": "c57e50c0-c55e-46d1-b643-6841b8425c50",
   "metadata": {},
   "outputs": [],
   "source": []
  },
  {
   "cell_type": "code",
   "execution_count": null,
   "id": "5bed170a-faa0-4483-be26-2b65719f051a",
   "metadata": {},
   "outputs": [],
   "source": []
  }
 ],
 "metadata": {
  "kernelspec": {
   "display_name": "Python 3 (ipykernel)",
   "language": "python",
   "name": "python3"
  },
  "language_info": {
   "codemirror_mode": {
    "name": "ipython",
    "version": 3
   },
   "file_extension": ".py",
   "mimetype": "text/x-python",
   "name": "python",
   "nbconvert_exporter": "python",
   "pygments_lexer": "ipython3",
   "version": "3.11.7"
  }
 },
 "nbformat": 4,
 "nbformat_minor": 5
}
